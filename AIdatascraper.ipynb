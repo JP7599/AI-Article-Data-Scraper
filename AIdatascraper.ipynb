{
  "nbformat": 4,
  "nbformat_minor": 0,
  "metadata": {
    "colab": {
      "provenance": [],
      "authorship_tag": "ABX9TyO2iSdr11105wigrbHwTY0v",
      "include_colab_link": true
    },
    "kernelspec": {
      "name": "python3",
      "display_name": "Python 3"
    },
    "language_info": {
      "name": "python"
    }
  },
  "cells": [
    {
      "cell_type": "markdown",
      "metadata": {
        "id": "view-in-github",
        "colab_type": "text"
      },
      "source": [
        "<a href=\"https://colab.research.google.com/github/JP7599/AI-Article-Data-Scraper/blob/main/AIdatascraper.ipynb\" target=\"_parent\"><img src=\"https://colab.research.google.com/assets/colab-badge.svg\" alt=\"Open In Colab\"/></a>"
      ]
    },
    {
      "cell_type": "code",
      "source": [
        "!pip install openai beautifulsoup4\n",
        "!pip install --upgrade openai"
      ],
      "metadata": {
        "colab": {
          "base_uri": "https://localhost:8080/"
        },
        "id": "RbU3Li2zn5GB",
        "outputId": "f45b2b24-a4bc-40af-84bc-cb9099bbfc34"
      },
      "execution_count": null,
      "outputs": [
        {
          "output_type": "stream",
          "name": "stdout",
          "text": [
            "Requirement already satisfied: openai in /usr/local/lib/python3.10/dist-packages (1.55.3)\n",
            "Requirement already satisfied: beautifulsoup4 in /usr/local/lib/python3.10/dist-packages (4.12.3)\n",
            "Requirement already satisfied: anyio<5,>=3.5.0 in /usr/local/lib/python3.10/dist-packages (from openai) (4.7.0)\n",
            "Requirement already satisfied: distro<2,>=1.7.0 in /usr/local/lib/python3.10/dist-packages (from openai) (1.9.0)\n",
            "Requirement already satisfied: httpx<1,>=0.23.0 in /usr/local/lib/python3.10/dist-packages (from openai) (0.27.2)\n",
            "Requirement already satisfied: jiter<1,>=0.4.0 in /usr/local/lib/python3.10/dist-packages (from openai) (0.8.2)\n",
            "Requirement already satisfied: pydantic<3,>=1.9.0 in /usr/local/lib/python3.10/dist-packages (from openai) (2.10.3)\n",
            "Requirement already satisfied: sniffio in /usr/local/lib/python3.10/dist-packages (from openai) (1.3.1)\n",
            "Requirement already satisfied: tqdm>4 in /usr/local/lib/python3.10/dist-packages (from openai) (4.67.1)\n",
            "Requirement already satisfied: typing-extensions<5,>=4.11 in /usr/local/lib/python3.10/dist-packages (from openai) (4.12.2)\n",
            "Requirement already satisfied: soupsieve>1.2 in /usr/local/lib/python3.10/dist-packages (from beautifulsoup4) (2.6)\n",
            "Requirement already satisfied: exceptiongroup>=1.0.2 in /usr/local/lib/python3.10/dist-packages (from anyio<5,>=3.5.0->openai) (1.2.2)\n",
            "Requirement already satisfied: idna>=2.8 in /usr/local/lib/python3.10/dist-packages (from anyio<5,>=3.5.0->openai) (3.10)\n",
            "Requirement already satisfied: certifi in /usr/local/lib/python3.10/dist-packages (from httpx<1,>=0.23.0->openai) (2024.12.14)\n",
            "Requirement already satisfied: httpcore==1.* in /usr/local/lib/python3.10/dist-packages (from httpx<1,>=0.23.0->openai) (1.0.7)\n",
            "Requirement already satisfied: h11<0.15,>=0.13 in /usr/local/lib/python3.10/dist-packages (from httpcore==1.*->httpx<1,>=0.23.0->openai) (0.14.0)\n",
            "Requirement already satisfied: annotated-types>=0.6.0 in /usr/local/lib/python3.10/dist-packages (from pydantic<3,>=1.9.0->openai) (0.7.0)\n",
            "Requirement already satisfied: pydantic-core==2.27.1 in /usr/local/lib/python3.10/dist-packages (from pydantic<3,>=1.9.0->openai) (2.27.1)\n",
            "Requirement already satisfied: openai in /usr/local/lib/python3.10/dist-packages (1.55.3)\n",
            "Collecting openai\n",
            "  Using cached openai-1.57.4-py3-none-any.whl.metadata (24 kB)\n",
            "Requirement already satisfied: anyio<5,>=3.5.0 in /usr/local/lib/python3.10/dist-packages (from openai) (4.7.0)\n",
            "Requirement already satisfied: distro<2,>=1.7.0 in /usr/local/lib/python3.10/dist-packages (from openai) (1.9.0)\n",
            "Requirement already satisfied: httpx<1,>=0.23.0 in /usr/local/lib/python3.10/dist-packages (from openai) (0.27.2)\n",
            "Requirement already satisfied: jiter<1,>=0.4.0 in /usr/local/lib/python3.10/dist-packages (from openai) (0.8.2)\n",
            "Requirement already satisfied: pydantic<3,>=1.9.0 in /usr/local/lib/python3.10/dist-packages (from openai) (2.10.3)\n",
            "Requirement already satisfied: sniffio in /usr/local/lib/python3.10/dist-packages (from openai) (1.3.1)\n",
            "Requirement already satisfied: tqdm>4 in /usr/local/lib/python3.10/dist-packages (from openai) (4.67.1)\n",
            "Requirement already satisfied: typing-extensions<5,>=4.11 in /usr/local/lib/python3.10/dist-packages (from openai) (4.12.2)\n",
            "Requirement already satisfied: exceptiongroup>=1.0.2 in /usr/local/lib/python3.10/dist-packages (from anyio<5,>=3.5.0->openai) (1.2.2)\n",
            "Requirement already satisfied: idna>=2.8 in /usr/local/lib/python3.10/dist-packages (from anyio<5,>=3.5.0->openai) (3.10)\n",
            "Requirement already satisfied: certifi in /usr/local/lib/python3.10/dist-packages (from httpx<1,>=0.23.0->openai) (2024.12.14)\n",
            "Requirement already satisfied: httpcore==1.* in /usr/local/lib/python3.10/dist-packages (from httpx<1,>=0.23.0->openai) (1.0.7)\n",
            "Requirement already satisfied: h11<0.15,>=0.13 in /usr/local/lib/python3.10/dist-packages (from httpcore==1.*->httpx<1,>=0.23.0->openai) (0.14.0)\n",
            "Requirement already satisfied: annotated-types>=0.6.0 in /usr/local/lib/python3.10/dist-packages (from pydantic<3,>=1.9.0->openai) (0.7.0)\n",
            "Requirement already satisfied: pydantic-core==2.27.1 in /usr/local/lib/python3.10/dist-packages (from pydantic<3,>=1.9.0->openai) (2.27.1)\n",
            "Using cached openai-1.57.4-py3-none-any.whl (390 kB)\n",
            "Installing collected packages: openai\n",
            "  Attempting uninstall: openai\n",
            "    Found existing installation: openai 1.55.3\n",
            "    Uninstalling openai-1.55.3:\n",
            "      Successfully uninstalled openai-1.55.3\n",
            "Successfully installed openai-1.57.4\n"
          ]
        }
      ]
    },
    {
      "cell_type": "code",
      "source": [
        "  import os\n",
        "  import requests\n",
        "  from bs4 import BeautifulSoup\n",
        "  import re\n",
        "  import json\n",
        "  import pandas as pd\n",
        "  from openai import OpenAI\n",
        "  from openai import ChatCompletion"
      ],
      "metadata": {
        "id": "1WH8VHfuDThT"
      },
      "execution_count": null,
      "outputs": []
    },
    {
      "cell_type": "code",
      "source": [
        "!pip show openai\n"
      ],
      "metadata": {
        "colab": {
          "base_uri": "https://localhost:8080/"
        },
        "id": "hCOvGQTE7OPX",
        "outputId": "8a87f279-513d-4402-e17d-69e133289c9b"
      },
      "execution_count": null,
      "outputs": [
        {
          "output_type": "stream",
          "name": "stdout",
          "text": [
            "Name: openai\n",
            "Version: 1.55.3\n",
            "Summary: The official Python library for the openai API\n",
            "Home-page: https://github.com/openai/openai-python\n",
            "Author: \n",
            "Author-email: OpenAI <support@openai.com>\n",
            "License: Apache-2.0\n",
            "Location: /usr/local/lib/python3.10/dist-packages\n",
            "Requires: anyio, distro, httpx, jiter, pydantic, sniffio, tqdm, typing-extensions\n",
            "Required-by: \n"
          ]
        }
      ]
    },
    {
      "cell_type": "code",
      "source": [
        "\n",
        "# Configuration\n",
        "\n",
        "OPENAI_API_KEY = \"#\" #Your api key\n",
        "BING_API_KEY = \"#\" #your api key\n",
        "BING_SEARCH_ENDPOINT = \"https://api.bing.microsoft.com/v7.0/search\"\n",
        "\n",
        "#queries to discover relevant links\n",
        "queries = [\n",
        "    \"AI product patent growth for the future\",\n",
        "    \"forecast for AI patent filings\",\n",
        "    \"AI patent trend projections\"\n",
        "]\n",
        "#num of links fetched per query\n",
        "links_per_query = 10"
      ],
      "metadata": {
        "id": "sAuDxxgBDTfE"
      },
      "execution_count": null,
      "outputs": []
    },
    {
      "cell_type": "code",
      "source": [
        "\n",
        "# Functions\n",
        "\n",
        "#relevant link search on bing.\n",
        "def search_links(query, count=10):\n",
        "    headers = {\"Ocp-Apim-Subscription-Key\": BING_API_KEY}\n",
        "    params = {\n",
        "        \"q\": query,\n",
        "        \"count\": count,\n",
        "        \"textDecorations\": True,\n",
        "        \"textFormat\": \"HTML\",\n",
        "        \"safeSearch\": \"Off\"\n",
        "    }\n",
        "    response = requests.get(BING_SEARCH_ENDPOINT, headers=headers, params=params)\n",
        "    data = response.json()\n",
        "    links = []\n",
        "    for webPage in data.get(\"webPages\", {}).get(\"value\", []):\n",
        "        link = webPage.get(\"url\")\n",
        "        if link:\n",
        "            links.append(link)\n",
        "    return links\n",
        "\n",
        "def scrape_and_clean_text(url):\n",
        "    #fetch website and return cleaned html content\n",
        "    try:\n",
        "        response = requests.get(url, timeout=10)\n",
        "        if response.status_code != 200:\n",
        "            return None\n",
        "        soup = BeautifulSoup(response.text, \"html.parser\")\n",
        "\n",
        "        #remove not needed stuff\n",
        "        for tag in soup([\"script\", \"style\", \"header\", \"footer\", \"nav\"]):\n",
        "            tag.decompose()\n",
        "\n",
        "        text = soup.get_text(separator=\" \")\n",
        "        text = re.sub(r\"\\s+\", \" \", text).strip()\n",
        "        return text\n",
        "    except:\n",
        "        return None\n",
        "\n",
        "def create_prompt(article_text):\n",
        "    return f\"\"\"\n",
        "        You are an expert in analyzing the impact of climate change on agriculture.\n",
        "        From the provided text, extract the following numerical and boolean information.\n",
        "\n",
        "        If information is not directly mentioned, return null for numeric fields and false for booleans.\n",
        "\n",
        "        Return result as JSON (no extra text):\n",
        "        {{\n",
        "          \"annual_crop_yield_change_percentage\": null or a number,\n",
        "          \"projected_temperature_rise_by_year\": [{{\"year\": 2025, \"temperature_rise_celsius\": number}}, ...],\n",
        "          \"projected_precipitation_change_by_year\": [{{\"year\": 2025, \"precipitation_change_percentage\": number}}, ...],\n",
        "          \"dominant_region_impact_percentage\": null or a number,\n",
        "          \"global_crop_failure_probability\": null or a number,\n",
        "          \"major_affected_crops\": [\"crop1\", \"crop2\", ...],\n",
        "          \"annual_soil_quality_degradation_rate\": null or a number,\n",
        "          \"key_adaptation_strategy_count\": number,\n",
        "          \"water_resource_availability_change\": null or a number,\n",
        "          \"agriculture_sector_emissions_percentage\": null or a number,\n",
        "          \"climate_policy_initiatives_count\": number,\n",
        "          \"economic_loss_estimate_by_year\": [{{\"year\": 2025, \"loss_billion_usd\": number}}, ...],\n",
        "          \"migration_due_to_agriculture_loss\": null or a number,\n",
        "          \"technology_investment_growth_rate\": null or a number,\n",
        "          \"food_security_index_change\": null or a number,\n",
        "          \"biodiversity_loss_percentage\": null or a number,\n",
        "          \"forecasted_population_impact_by_year\": [{{\"year\": 2025, \"population_affected\": number}}, ...],\n",
        "          \"livelihood_dependency_change\": null or a number,\n",
        "          \"region_with_highest_innovation_adoption\": \"region_name\" or null,\n",
        "          \"farm_income_variation_by_year\": [{{\"year\": 2025, \"income_variation_percentage\": number}}, ...],\n",
        "          \"carbon_sequestration_by_agriculture\": null or a number\n",
        "        }}\n",
        "\n",
        "        - annual_crop_yield_change_percentage: Percentage change in crop yield annually.\n",
        "        - projected_temperature_rise_by_year: Yearly rise in temperature forecasts.\n",
        "        - projected_precipitation_change_by_year: Yearly change in precipitation forecasts.\n",
        "        - dominant_region_impact_percentage: Percentage of impact in the most affected region.\n",
        "        - global_crop_failure_probability: Probability of global crop failure in percentage.\n",
        "        - major_affected_crops: Crops most impacted by climate change.\n",
        "        - annual_soil_quality_degradation_rate: Rate of soil degradation per year.\n",
        "        - key_adaptation_strategy_count: Count of strategies for adapting to impacts.\n",
        "        - water_resource_availability_change: Change in water resources due to climate change.\n",
        "        - agriculture_sector_emissions_percentage: Percentage of emissions from agriculture.\n",
        "        - climate_policy_initiatives_count: Number of policies or initiatives mentioned.\n",
        "        - economic_loss_estimate_by_year: Economic losses per year in billions of USD.\n",
        "        - migration_due_to_agriculture_loss: Number of people displaced due to agriculture loss.\n",
        "        - technology_investment_growth_rate: Annual growth rate of investment in agriculture technologies.\n",
        "        - food_security_index_change: Change in food security index annually.\n",
        "        - biodiversity_loss_percentage: Loss of biodiversity in agricultural regions.\n",
        "        - forecasted_population_impact_by_year: Population forecasted to be impacted annually.\n",
        "        - livelihood_dependency_change: Change in reliance on agriculture for livelihood.\n",
        "        - region_with_highest_innovation_adoption: Region leading in climate-smart innovation.\n",
        "        - farm_income_variation_by_year: Yearly variation in farm income in percentage.\n",
        "        - carbon_sequestration_by_agriculture: Amount of carbon captured annually by agriculture.\n",
        "\n",
        "        Text:\n",
        "        ---------------------\n",
        "        {article_text}\n",
        "        ---------------------\n",
        "        \"\"\"\n",
        "\n",
        "\n",
        "#call openai api and return json string\n",
        "def call_llm(prompt, model=\"gpt-3.5-turbo\"):\n",
        "        client = OpenAI(api_key=OPENAI_API_KEY)\n",
        "        response = client.chat.completions.create(\n",
        "            messages=[\n",
        "                {\"role\": \"system\", \"content\": \"You are a helpful assistant that returns clean JSON.\"},\n",
        "                {\"role\": \"user\", \"content\": prompt}\n",
        "            ],\n",
        "            model=\"gpt-3.5-turbo\",\n",
        "            max_tokens=1000\n",
        "        )\n",
        "        return response.choices[0].message.content\n"
      ],
      "metadata": {
        "id": "6JbNkkn8DTcr"
      },
      "execution_count": null,
      "outputs": []
    },
    {
      "cell_type": "code",
      "source": [
        "\n",
        "# Test run 1 URL\n",
        "print(\"Starting test run...\")\n",
        "test_url = \"https://www.nature.org/en-us/newsroom/growing-threats-how-climate-change-will-exacerbate-environmental-impacts-agriculture/\"\n",
        "test_article_text = scrape_and_clean_text(test_url)\n",
        "\n",
        "if not test_article_text:\n",
        "    print(f\"{test_url} URL does not work.\")\n",
        "else:\n",
        "    test_prompt = create_prompt(test_article_text)\n",
        "    test_raw_output = call_llm(test_prompt)\n",
        "    print(\"LLM Raw Output:\\n\", test_raw_output)\n",
        "\n",
        "    try:\n",
        "        test_data = json.loads(test_raw_output)\n",
        "        print(\"Parsed JSON:\\n\", test_data)\n",
        "\n",
        "        # Convert to DataFrame for inspection\n",
        "        test_df = pd.DataFrame([{\n",
        "            \"source_url\": test_url,\n",
        "            \"annual_crop_yield_change_percentage\": test_data.get(\"annual_crop_yield_change_percentage\"),\n",
        "            \"projected_temperature_rise_by_year\": test_data.get(\"projected_temperature_rise_by_year\", []),\n",
        "            \"projected_precipitation_change_by_year\": test_data.get(\"projected_precipitation_change_by_year\", []),\n",
        "            \"dominant_region_impact_percentage\": test_data.get(\"dominant_region_impact_percentage\"),\n",
        "            \"global_crop_failure_probability\": test_data.get(\"global_crop_failure_probability\"),\n",
        "            \"major_affected_crops\": test_data.get(\"major_affected_crops\", []),\n",
        "            \"annual_soil_quality_degradation_rate\": test_data.get(\"annual_soil_quality_degradation_rate\"),\n",
        "            \"key_adaptation_strategy_count\": test_data.get(\"key_adaptation_strategy_count\"),\n",
        "            \"water_resource_availability_change\": test_data.get(\"water_resource_availability_change\"),\n",
        "            \"agriculture_sector_emissions_percentage\": test_data.get(\"agriculture_sector_emissions_percentage\"),\n",
        "            \"climate_policy_initiatives_count\": test_data.get(\"climate_policy_initiatives_count\"),\n",
        "            \"economic_loss_estimate_by_year\": test_data.get(\"economic_loss_estimate_by_year\", []),\n",
        "            \"migration_due_to_agriculture_loss\": test_data.get(\"migration_due_to_agriculture_loss\"),\n",
        "            \"technology_investment_growth_rate\": test_data.get(\"technology_investment_growth_rate\"),\n",
        "            \"food_security_index_change\": test_data.get(\"food_security_index_change\"),\n",
        "            \"biodiversity_loss_percentage\": test_data.get(\"biodiversity_loss_percentage\"),\n",
        "            \"forecasted_population_impact_by_year\": test_data.get(\"forecasted_population_impact_by_year\", []),\n",
        "            \"livelihood_dependency_change\": test_data.get(\"livelihood_dependency_change\"),\n",
        "            \"region_with_highest_innovation_adoption\": test_data.get(\"region_with_highest_innovation_adoption\"),\n",
        "            \"farm_income_variation_by_year\": test_data.get(\"farm_income_variation_by_year\", []),\n",
        "            \"carbon_sequestration_by_agriculture\": test_data.get(\"carbon_sequestration_by_agriculture\"),\n",
        "        }])\n",
        "\n",
        "        print(\"\\nTest DataFrame:\\n\", test_df)\n",
        "    except json.JSONDecodeError:\n",
        "        print(\"JSON parsing failed for the test run. Check LLM output or prompt.\")\n",
        "\n",
        "print(\"Test run completed. If this looks good, proceed with the full pipeline.\")\n"
      ],
      "metadata": {
        "colab": {
          "base_uri": "https://localhost:8080/"
        },
        "id": "ODd8b8QADTaZ",
        "outputId": "a72da88d-495a-42c7-d122-fc9b6f565a29"
      },
      "execution_count": null,
      "outputs": [
        {
          "output_type": "stream",
          "name": "stdout",
          "text": [
            "Starting test run...\n",
            "LLM Raw Output:\n",
            " {\n",
            "    \"annual_crop_yield_change_percentage\": null,\n",
            "    \"projected_temperature_rise_by_year\": [\n",
            "        {\n",
            "            \"year\": 2025,\n",
            "            \"temperature_rise_celsius\": null\n",
            "        }\n",
            "    ],\n",
            "    \"projected_precipitation_change_by_year\": [\n",
            "        {\n",
            "            \"year\": 2025,\n",
            "            \"precipitation_change_percentage\": null\n",
            "        }\n",
            "    ],\n",
            "    \"dominant_region_impact_percentage\": null,\n",
            "    \"global_crop_failure_probability\": null,\n",
            "    \"major_affected_crops\": [\n",
            "        \"rice\",\n",
            "        \"soybean\",\n",
            "        \"corn\",\n",
            "        \"wheat\"\n",
            "    ],\n",
            "    \"annual_soil_quality_degradation_rate\": null,\n",
            "    \"key_adaptation_strategy_count\": null,\n",
            "    \"water_resource_availability_change\": null,\n",
            "    \"agriculture_sector_emissions_percentage\": null,\n",
            "    \"climate_policy_initiatives_count\": null,\n",
            "    \"economic_loss_estimate_by_year\": [\n",
            "        {\n",
            "            \"year\": 2025,\n",
            "            \"loss_billion_usd\": null\n",
            "        }\n",
            "    ],\n",
            "    \"migration_due_to_agriculture_loss\": null,\n",
            "    \"technology_investment_growth_rate\": null,\n",
            "    \"food_security_index_change\": null,\n",
            "    \"biodiversity_loss_percentage\": null,\n",
            "    \"forecasted_population_impact_by_year\": [\n",
            "        {\n",
            "            \"year\": 2025,\n",
            "            \"population_affected\": null\n",
            "        }\n",
            "    ],\n",
            "    \"livelihood_dependency_change\": null,\n",
            "    \"region_with_highest_innovation_adoption\": null,\n",
            "    \"farm_income_variation_by_year\": [\n",
            "        {\n",
            "            \"year\": 2025,\n",
            "            \"income_variation_percentage\": null\n",
            "        }\n",
            "    ],\n",
            "    \"carbon_sequestration_by_agriculture\": null\n",
            "}\n",
            "Parsed JSON:\n",
            " {'annual_crop_yield_change_percentage': None, 'projected_temperature_rise_by_year': [{'year': 2025, 'temperature_rise_celsius': None}], 'projected_precipitation_change_by_year': [{'year': 2025, 'precipitation_change_percentage': None}], 'dominant_region_impact_percentage': None, 'global_crop_failure_probability': None, 'major_affected_crops': ['rice', 'soybean', 'corn', 'wheat'], 'annual_soil_quality_degradation_rate': None, 'key_adaptation_strategy_count': None, 'water_resource_availability_change': None, 'agriculture_sector_emissions_percentage': None, 'climate_policy_initiatives_count': None, 'economic_loss_estimate_by_year': [{'year': 2025, 'loss_billion_usd': None}], 'migration_due_to_agriculture_loss': None, 'technology_investment_growth_rate': None, 'food_security_index_change': None, 'biodiversity_loss_percentage': None, 'forecasted_population_impact_by_year': [{'year': 2025, 'population_affected': None}], 'livelihood_dependency_change': None, 'region_with_highest_innovation_adoption': None, 'farm_income_variation_by_year': [{'year': 2025, 'income_variation_percentage': None}], 'carbon_sequestration_by_agriculture': None}\n",
            "\n",
            "Test DataFrame:\n",
            "                                           source_url  \\\n",
            "0  https://www.nature.org/en-us/newsroom/growing-...   \n",
            "\n",
            "  annual_crop_yield_change_percentage  \\\n",
            "0                                None   \n",
            "\n",
            "                  projected_temperature_rise_by_year  \\\n",
            "0  [{'year': 2025, 'temperature_rise_celsius': No...   \n",
            "\n",
            "              projected_precipitation_change_by_year  \\\n",
            "0  [{'year': 2025, 'precipitation_change_percenta...   \n",
            "\n",
            "  dominant_region_impact_percentage global_crop_failure_probability  \\\n",
            "0                              None                            None   \n",
            "\n",
            "           major_affected_crops annual_soil_quality_degradation_rate  \\\n",
            "0  [rice, soybean, corn, wheat]                                 None   \n",
            "\n",
            "  key_adaptation_strategy_count water_resource_availability_change  ...  \\\n",
            "0                          None                               None  ...   \n",
            "\n",
            "               economic_loss_estimate_by_year  \\\n",
            "0  [{'year': 2025, 'loss_billion_usd': None}]   \n",
            "\n",
            "  migration_due_to_agriculture_loss technology_investment_growth_rate  \\\n",
            "0                              None                              None   \n",
            "\n",
            "  food_security_index_change biodiversity_loss_percentage  \\\n",
            "0                       None                         None   \n",
            "\n",
            "            forecasted_population_impact_by_year livelihood_dependency_change  \\\n",
            "0  [{'year': 2025, 'population_affected': None}]                         None   \n",
            "\n",
            "  region_with_highest_innovation_adoption  \\\n",
            "0                                    None   \n",
            "\n",
            "                       farm_income_variation_by_year  \\\n",
            "0  [{'year': 2025, 'income_variation_percentage':...   \n",
            "\n",
            "  carbon_sequestration_by_agriculture  \n",
            "0                                None  \n",
            "\n",
            "[1 rows x 22 columns]\n",
            "Test run completed. If this looks good, proceed with the full pipeline.\n"
          ]
        }
      ]
    },
    {
      "cell_type": "code",
      "source": [
        "\n",
        "# Main Pipeline (Run after test works smoothly so that you dont go broke for nothing)\n",
        "'''\n",
        "all_links = []\n",
        "for q in queries:\n",
        "    found_links = search_links(q, count=links_per_query)\n",
        "    all_links.extend(found_links)\n",
        "\n",
        "# Deduplicate links\n",
        "all_links = list(set(all_links))\n",
        "\n",
        "all_extracted_data = []\n",
        "for url in all_links:\n",
        "    print(f\"Processing: {url}\")\n",
        "    article_text = scrape_and_clean_text(url)\n",
        "    if not article_text or len(article_text) < 500:  #skip very short texts\n",
        "        continue\n",
        "\n",
        "    prompt = create_prompt(article_text)\n",
        "    raw_output = call_llm(prompt)\n",
        "\n",
        "    try:\n",
        "        data = json.loads(raw_output)\n",
        "    except json.JSONDecodeError:\n",
        "        print(f\"Failed to parse JSON from {url}. Output:\\n{raw_output}\")\n",
        "        continue\n",
        "\n",
        "    entry = {\n",
        "            \"source_url\": test_url,\n",
        "            \"annual_crop_yield_change_percentage\": test_data.get(\"annual_crop_yield_change_percentage\"),\n",
        "            \"projected_temperature_rise_by_year\": test_data.get(\"projected_temperature_rise_by_year\", []),\n",
        "            \"projected_precipitation_change_by_year\": test_data.get(\"projected_precipitation_change_by_year\", []),\n",
        "            \"dominant_region_impact_percentage\": test_data.get(\"dominant_region_impact_percentage\"),\n",
        "            \"global_crop_failure_probability\": test_data.get(\"global_crop_failure_probability\"),\n",
        "            \"major_affected_crops\": test_data.get(\"major_affected_crops\", []),\n",
        "            \"annual_soil_quality_degradation_rate\": test_data.get(\"annual_soil_quality_degradation_rate\"),\n",
        "            \"key_adaptation_strategy_count\": test_data.get(\"key_adaptation_strategy_count\"),\n",
        "            \"water_resource_availability_change\": test_data.get(\"water_resource_availability_change\"),\n",
        "            \"agriculture_sector_emissions_percentage\": test_data.get(\"agriculture_sector_emissions_percentage\"),\n",
        "            \"climate_policy_initiatives_count\": test_data.get(\"climate_policy_initiatives_count\"),\n",
        "            \"economic_loss_estimate_by_year\": test_data.get(\"economic_loss_estimate_by_year\", []),\n",
        "            \"migration_due_to_agriculture_loss\": test_data.get(\"migration_due_to_agriculture_loss\"),\n",
        "            \"technology_investment_growth_rate\": test_data.get(\"technology_investment_growth_rate\"),\n",
        "            \"food_security_index_change\": test_data.get(\"food_security_index_change\"),\n",
        "            \"biodiversity_loss_percentage\": test_data.get(\"biodiversity_loss_percentage\"),\n",
        "            \"forecasted_population_impact_by_year\": test_data.get(\"forecasted_population_impact_by_year\", []),\n",
        "            \"livelihood_dependency_change\": test_data.get(\"livelihood_dependency_change\"),\n",
        "            \"region_with_highest_innovation_adoption\": test_data.get(\"region_with_highest_innovation_adoption\"),\n",
        "            \"farm_income_variation_by_year\": test_data.get(\"farm_income_variation_by_year\", []),\n",
        "            \"carbon_sequestration_by_agriculture\": test_data.get(\"carbon_sequestration_by_agriculture\"),\n",
        "        }\n",
        "    all_extracted_data.append(entry)\n",
        "\n",
        "df = pd.DataFrame(all_extracted_data)\n",
        "print(df.head())\n",
        "\n",
        "# Save to CSV\n",
        "df.to_csv(\"ai_patent_forecast_data.csv\", index=False)\n",
        "print(\"Full pipeline run completed. Data saved to ai_patent_forecast_data.csv.\")\n",
        "\n",
        "# Remove the triple quotes and run the full pipeline after verifying the test.\n",
        "'''"
      ],
      "metadata": {
        "colab": {
          "base_uri": "https://localhost:8080/",
          "height": 123
        },
        "id": "EddfmMzwDTYK",
        "outputId": "8ef63a18-665f-4b0a-e228-0e99ba45ca63"
      },
      "execution_count": null,
      "outputs": [
        {
          "output_type": "execute_result",
          "data": {
            "text/plain": [
              "'\\nall_links = []\\nfor q in queries:\\n    found_links = search_links(q, count=links_per_query)\\n    all_links.extend(found_links)\\n\\n# Deduplicate links\\nall_links = list(set(all_links))\\n\\nall_extracted_data = []\\nfor url in all_links:\\n    print(f\"Processing: {url}\")\\n    article_text = scrape_and_clean_text(url)\\n    if not article_text or len(article_text) < 500:  #skip very short texts\\n        continue\\n\\n    prompt = create_prompt(article_text)\\n    raw_output = call_llm(prompt)\\n\\n    try:\\n        data = json.loads(raw_output)\\n    except json.JSONDecodeError:\\n        print(f\"Failed to parse JSON from {url}. Output:\\n{raw_output}\")\\n        continue\\n\\n    entry = {\\n            \"source_url\": test_url,\\n            \"annual_crop_yield_change_percentage\": test_data.get(\"annual_crop_yield_change_percentage\"),\\n            \"projected_temperature_rise_by_year\": test_data.get(\"projected_temperature_rise_by_year\", []),\\n            \"projected_precipitation_change_by_year\": test_data.get(\"projected_precipitation_change_by_year\", []),\\n            \"dominant_region_impact_percentage\": test_data.get(\"dominant_region_impact_percentage\"),\\n            \"global_crop_failure_probability\": test_data.get(\"global_crop_failure_probability\"),\\n            \"major_affected_crops\": test_data.get(\"major_affected_crops\", []),\\n            \"annual_soil_quality_degradation_rate\": test_data.get(\"annual_soil_quality_degradation_rate\"),\\n            \"key_adaptation_strategy_count\": test_data.get(\"key_adaptation_strategy_count\"),\\n            \"water_resource_availability_change\": test_data.get(\"water_resource_availability_change\"),\\n            \"agriculture_sector_emissions_percentage\": test_data.get(\"agriculture_sector_emissions_percentage\"),\\n            \"climate_policy_initiatives_count\": test_data.get(\"climate_policy_initiatives_count\"),\\n            \"economic_loss_estimate_by_year\": test_data.get(\"economic_loss_estimate_by_year\", []),\\n            \"migration_due_to_agriculture_loss\": test_data.get(\"migration_due_to_agriculture_loss\"),\\n            \"technology_investment_growth_rate\": test_data.get(\"technology_investment_growth_rate\"),\\n            \"food_security_index_change\": test_data.get(\"food_security_index_change\"),\\n            \"biodiversity_loss_percentage\": test_data.get(\"biodiversity_loss_percentage\"),\\n            \"forecasted_population_impact_by_year\": test_data.get(\"forecasted_population_impact_by_year\", []),\\n            \"livelihood_dependency_change\": test_data.get(\"livelihood_dependency_change\"),\\n            \"region_with_highest_innovation_adoption\": test_data.get(\"region_with_highest_innovation_adoption\"),\\n            \"farm_income_variation_by_year\": test_data.get(\"farm_income_variation_by_year\", []),\\n            \"carbon_sequestration_by_agriculture\": test_data.get(\"carbon_sequestration_by_agriculture\"),\\n        }\\n    all_extracted_data.append(entry)\\n\\ndf = pd.DataFrame(all_extracted_data)\\nprint(df.head())\\n\\n# Save to CSV\\ndf.to_csv(\"ai_patent_forecast_data.csv\", index=False)\\nprint(\"Full pipeline run completed. Data saved to ai_patent_forecast_data.csv.\")\\n\\n# Remove the triple quotes and run the full pipeline after verifying the test.\\n'"
            ],
            "application/vnd.google.colaboratory.intrinsic+json": {
              "type": "string"
            }
          },
          "metadata": {},
          "execution_count": 28
        }
      ]
    },
    {
      "cell_type": "code",
      "source": [],
      "metadata": {
        "id": "_B_WCBuUDTV-"
      },
      "execution_count": null,
      "outputs": []
    },
    {
      "cell_type": "code",
      "source": [],
      "metadata": {
        "id": "a8qp78r3DTT2"
      },
      "execution_count": null,
      "outputs": []
    },
    {
      "cell_type": "code",
      "source": [],
      "metadata": {
        "id": "G1WLhuLpDTRy"
      },
      "execution_count": null,
      "outputs": []
    },
    {
      "cell_type": "code",
      "source": [],
      "metadata": {
        "id": "oSmvOu5-DTPh"
      },
      "execution_count": null,
      "outputs": []
    },
    {
      "cell_type": "code",
      "source": [],
      "metadata": {
        "id": "pQ1lH0b-DTNJ"
      },
      "execution_count": null,
      "outputs": []
    },
    {
      "cell_type": "code",
      "source": [],
      "metadata": {
        "id": "r73Q0MhMDTKl"
      },
      "execution_count": null,
      "outputs": []
    },
    {
      "cell_type": "code",
      "source": [],
      "metadata": {
        "id": "bDFvmu_ADTAa"
      },
      "execution_count": null,
      "outputs": []
    }
  ]
}